{
  "nbformat": 4,
  "nbformat_minor": 0,
  "metadata": {
    "colab": {
      "provenance": []
    },
    "kernelspec": {
      "name": "python3",
      "display_name": "Python 3"
    },
    "language_info": {
      "name": "python"
    }
  },
  "cells": [
    {
      "cell_type": "code",
      "execution_count": null,
      "metadata": {
        "id": "9vOT38Xw72jx"
      },
      "outputs": [],
      "source": [
        "#23MDT1059 RUSHIKESH UPADHYE"
      ]
    },
    {
      "cell_type": "code",
      "source": [
        "import torch\n",
        "import torchvision\n",
        "import torchvision.transforms as transforms\n",
        "\n",
        "# Define transformations\n",
        "transform = transforms.Compose([\n",
        "    transforms.ToTensor(),  # Convert PIL image or numpy array to PyTorch tensor\n",
        "    transforms.Normalize((0.5, 0.5, 0.5), (0.5, 0.5, 0.5))  # Normalize to range [-1, 1]\n",
        "])\n",
        "\n",
        "\n",
        "train_dataset = torchvision.datasets.CIFAR10(\n",
        "    root='./data',\n",
        "    train=True,\n",
        "    download=True,\n",
        "    transform=transform\n",
        ")\n",
        "\n",
        "test_dataset = torchvision.datasets.CIFAR10(\n",
        "    root='./data',\n",
        "    train=False,\n",
        "    download=True,\n",
        "    transform=transform\n",
        ")\n",
        "\n",
        "# Create data loaders\n",
        "train_loader = torch.utils.data.DataLoader(train_dataset, batch_size=64, shuffle=True, num_workers=2)\n",
        "test_loader = torch.utils.data.DataLoader(test_dataset, batch_size=64, shuffle=False, num_workers=2)\n",
        "\n",
        "print(\"Data loading complete!\")\n"
      ],
      "metadata": {
        "colab": {
          "base_uri": "https://localhost:8080/"
        },
        "id": "j9j7CWnn8JUy",
        "outputId": "ed852173-e8f8-494c-efbd-5ed2963ad76a"
      },
      "execution_count": null,
      "outputs": [
        {
          "output_type": "stream",
          "name": "stdout",
          "text": [
            "Downloading https://www.cs.toronto.edu/~kriz/cifar-10-python.tar.gz to ./data/cifar-10-python.tar.gz\n"
          ]
        },
        {
          "output_type": "stream",
          "name": "stderr",
          "text": [
            "100%|██████████| 170M/170M [00:03<00:00, 54.1MB/s]\n"
          ]
        },
        {
          "output_type": "stream",
          "name": "stdout",
          "text": [
            "Extracting ./data/cifar-10-python.tar.gz to ./data\n",
            "Files already downloaded and verified\n",
            "Data loading complete!\n"
          ]
        }
      ]
    },
    {
      "cell_type": "code",
      "source": [
        "#construct cnn\n",
        "#convolutional layer 1: 32filters,kernel 3*3,Relu activation\n",
        "#convolutional layer 2: 64filters,kernel 3*3,Relu activation\n",
        "#maxpooling layer:pool size 2*2\n",
        "#flatten the output of the final convolutional layer\n",
        "#fullly connected laye:128 neurons with ReLU activation\n",
        "#output layer : 10 neurons with softmax activation\n",
        "import torch.nn as nn\n",
        "import torch.nn.functional as F\n",
        "\n",
        "class SimpleCNN(nn.Module):\n",
        "    def __init__(self):\n",
        "        super(SimpleCNN, self).__init__()\n",
        "\n",
        "        # Convolutional layers\n",
        "        self.conv1 = nn.Conv2d(in_channels=3, out_channels=32, kernel_size=3, stride=1, padding=1)\n",
        "        self.conv2 = nn.Conv2d(in_channels=32, out_channels=64, kernel_size=3, stride=1, padding=1)\n",
        "\n",
        "        # Pooling layer\n",
        "        self.pool = nn.MaxPool2d(kernel_size=2, stride=2)\n",
        "\n",
        "        # Fully connected layers\n",
        "        # Updated input size for fc1: 64 * 16 * 16\n",
        "        self.fc1 = nn.Linear(64 * 16 * 16, 128)  # After pooling, input size = 16x16\n",
        "        self.fc2 = nn.Linear(128, 10)  # Output layer\n",
        "\n",
        "    def forward(self, x):\n",
        "        # Convolutional layers with ReLU activation\n",
        "        x = F.relu(self.conv1(x))\n",
        "        x = F.relu(self.conv2(x))\n",
        "\n",
        "        # Max pooling\n",
        "        x = self.pool(x)\n",
        "\n",
        "        # Flatten\n",
        "        x = torch.flatten(x, start_dim=1)\n",
        "\n",
        "        # Fully connected layers\n",
        "        x = F.relu(self.fc1(x))\n",
        "        x = F.log_softmax(self.fc2(x), dim=1)  # Log-Softmax for classification\n",
        "\n",
        "        return x\n",
        "\n",
        "# Instantiate the model\n",
        "model = SimpleCNN()\n",
        "print(model)"
      ],
      "metadata": {
        "colab": {
          "base_uri": "https://localhost:8080/"
        },
        "id": "HItuSfDB8JXh",
        "outputId": "3c47a89b-70c2-4a22-f8ea-457c58d12fe1"
      },
      "execution_count": null,
      "outputs": [
        {
          "output_type": "stream",
          "name": "stdout",
          "text": [
            "SimpleCNN(\n",
            "  (conv1): Conv2d(3, 32, kernel_size=(3, 3), stride=(1, 1), padding=(1, 1))\n",
            "  (conv2): Conv2d(32, 64, kernel_size=(3, 3), stride=(1, 1), padding=(1, 1))\n",
            "  (pool): MaxPool2d(kernel_size=2, stride=2, padding=0, dilation=1, ceil_mode=False)\n",
            "  (fc1): Linear(in_features=16384, out_features=128, bias=True)\n",
            "  (fc2): Linear(in_features=128, out_features=10, bias=True)\n",
            ")\n"
          ]
        }
      ]
    },
    {
      "cell_type": "code",
      "source": [
        "#perform a forward pass to compute output.calculate cross entropy\n",
        "# Loss function\n",
        "criterion = nn.CrossEntropyLoss()\n",
        "\n",
        "# Get a batch of training data\n",
        "data_iter = iter(train_loader)\n",
        "images, labels = next(data_iter)\n",
        "\n",
        "# Forward pass\n",
        "outputs = model(images)\n",
        "\n",
        "# Calculate loss\n",
        "loss = criterion(outputs, labels)\n",
        "print(\"Loss:\", loss.item())\n"
      ],
      "metadata": {
        "colab": {
          "base_uri": "https://localhost:8080/"
        },
        "id": "gthUExiB8JaB",
        "outputId": "180f07a8-0c37-496c-8215-c93196c6dcb7"
      },
      "execution_count": null,
      "outputs": [
        {
          "output_type": "stream",
          "name": "stdout",
          "text": [
            "Loss: 2.311837673187256\n"
          ]
        }
      ]
    },
    {
      "cell_type": "code",
      "source": [
        "#upadate weights using the Adam optimizer with learning rate 0.0001\n",
        "import torch.optim as optim\n",
        "\n",
        "# Optimizer\n",
        "optimizer = optim.Adam(model.parameters(), lr=0.0001)\n",
        "\n",
        "# Zero the parameter gradients\n",
        "optimizer.zero_grad()\n",
        "\n",
        "# Backward pass and optimization\n",
        "loss.backward()\n",
        "optimizer.step()\n",
        "\n",
        "print(\"Weights updated!\")\n"
      ],
      "metadata": {
        "colab": {
          "base_uri": "https://localhost:8080/"
        },
        "id": "Rs_bmPUb8JcZ",
        "outputId": "231fb978-550c-44a2-cf8e-92214672b2f6"
      },
      "execution_count": null,
      "outputs": [
        {
          "output_type": "stream",
          "name": "stdout",
          "text": [
            "Weights updated!\n"
          ]
        }
      ]
    },
    {
      "cell_type": "code",
      "source": [
        "#train the model for 5 epochs tracking and plotting loss after each epoch\n",
        "import matplotlib.pyplot as plt\n",
        "\n",
        "num_epochs = 10\n",
        "train_loss = []\n",
        "\n",
        "for epoch in range(num_epochs):\n",
        "    running_loss = 0.0\n",
        "    for images, labels in train_loader:\n",
        "        # Forward pass\n",
        "        outputs = model(images)\n",
        "        loss = criterion(outputs, labels)\n",
        "\n",
        "        # Backward pass\n",
        "        optimizer.zero_grad()\n",
        "        loss.backward()\n",
        "        optimizer.step()\n",
        "\n",
        "        # Track loss\n",
        "        running_loss += loss.item()\n",
        "\n",
        "    epoch_loss = running_loss / len(train_loader)\n",
        "    train_loss.append(epoch_loss)\n",
        "    print(f\"Epoch {epoch+1}/{num_epochs}, Loss: {epoch_loss:.4f}\")\n",
        "\n",
        "# Plot training loss\n",
        "plt.plot(range(1, num_epochs + 1), train_loss, marker='o')\n",
        "plt.xlabel(\"Epochs\")\n",
        "plt.ylabel(\"Loss\")\n",
        "plt.title(\"Training Loss\")\n",
        "plt.show()\n",
        "\n"
      ],
      "metadata": {
        "colab": {
          "base_uri": "https://localhost:8080/",
          "height": 646
        },
        "id": "0gNmfwJo8JfA",
        "outputId": "d7686202-5b26-4317-e97d-4da53f104ac3"
      },
      "execution_count": null,
      "outputs": [
        {
          "output_type": "stream",
          "name": "stdout",
          "text": [
            "Epoch 1/10, Loss: 1.2399\n",
            "Epoch 2/10, Loss: 1.1398\n",
            "Epoch 3/10, Loss: 1.0600\n",
            "Epoch 4/10, Loss: 0.9939\n",
            "Epoch 5/10, Loss: 0.9379\n",
            "Epoch 6/10, Loss: 0.8890\n",
            "Epoch 7/10, Loss: 0.8450\n",
            "Epoch 8/10, Loss: 0.8055\n",
            "Epoch 9/10, Loss: 0.7653\n",
            "Epoch 10/10, Loss: 0.7314\n"
          ]
        },
        {
          "output_type": "display_data",
          "data": {
            "text/plain": [
              "<Figure size 640x480 with 1 Axes>"
            ],
            "image/png": "[encoded data removed]"
          },
          "metadata": {}
        }
      ]
    },
    {
      "cell_type": "code",
      "source": [
        "#after training evalute model accuracy on the test set\n",
        "def evaluate_model(model, test_loader):\n",
        "    correct = 0\n",
        "    total = 0\n",
        "    model.eval()  # Set model to evaluation mode\n",
        "    with torch.no_grad():\n",
        "        for images, labels in test_loader:\n",
        "            outputs = model(images)\n",
        "            _, predicted = torch.max(outputs, 1)  # Get the index of the max log-probability\n",
        "            total += labels.size(0)\n",
        "            correct += (predicted == labels).sum().item()\n",
        "\n",
        "    accuracy = 100 * correct / total\n",
        "    print(f\"Accuracy on the test set: {accuracy:.2f}%\")\n",
        "\n",
        "evaluate_model(model, test_loader)\n"
      ],
      "metadata": {
        "colab": {
          "base_uri": "https://localhost:8080/"
        },
        "id": "bVD9a2LLBcxV",
        "outputId": "3d1a45f8-fd21-413e-90d1-8ec47681f6d0"
      },
      "execution_count": null,
      "outputs": [
        {
          "output_type": "stream",
          "name": "stdout",
          "text": [
            "Accuracy on the test set: 67.17%\n"
          ]
        }
      ]
    }
  ]
}